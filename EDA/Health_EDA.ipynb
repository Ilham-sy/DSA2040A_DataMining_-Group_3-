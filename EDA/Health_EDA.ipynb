{
 "cells": [
  {
   "cell_type": "code",
   "execution_count": 43,
   "id": "34873613",
   "metadata": {},
   "outputs": [
    {
     "name": "stdout",
     "output_type": "stream",
     "text": [
      "/Users/sammy/Desktop/EDA-Health/DSA2040A_DataMining_-Group_3-/EDA\n"
     ]
    }
   ],
   "source": [
    "import os\n",
    "print(os.getcwd())"
   ]
  },
  {
   "cell_type": "code",
   "execution_count": 44,
   "id": "97259c2f",
   "metadata": {},
   "outputs": [
    {
     "name": "stdout",
     "output_type": "stream",
     "text": [
      "['Health_EDA.ipynb', 'Data']\n"
     ]
    }
   ],
   "source": [
    "import os\n",
    "print(os.listdir())"
   ]
  },
  {
   "cell_type": "code",
   "execution_count": 45,
   "id": "433222d9",
   "metadata": {},
   "outputs": [
    {
     "name": "stdout",
     "output_type": "stream",
     "text": [
      "<class 'pandas.core.frame.DataFrame'>\n",
      "RangeIndex: 100 entries, 0 to 99\n",
      "Data columns (total 14 columns):\n",
      " #   Column                Non-Null Count  Dtype  \n",
      "---  ------                --------------  -----  \n",
      " 0   patient_id            100 non-null    int64  \n",
      " 1   name                  100 non-null    object \n",
      " 2   age                   100 non-null    int64  \n",
      " 3   gender                100 non-null    object \n",
      " 4   diagnosis             100 non-null    object \n",
      " 5   blood_pressure        100 non-null    object \n",
      " 6   bmi                   100 non-null    float64\n",
      " 7   smoking_status        100 non-null    object \n",
      " 8   physical_activity     100 non-null    object \n",
      " 9   cholesterol_level     100 non-null    object \n",
      " 10  medication_adherence  100 non-null    object \n",
      " 11  hospital_stay_days    100 non-null    int64  \n",
      " 12  readmitted            100 non-null    object \n",
      " 13  visit_date            100 non-null    object \n",
      "dtypes: float64(1), int64(3), object(10)\n",
      "memory usage: 11.1+ KB\n"
     ]
    }
   ],
   "source": [
    "#1. Clean and analyze health data using pandas\n",
    "\n",
    "# Display the first 5 rows\n",
    "df = pd.read_csv('/Users/sammy/Desktop/EDA-Health/DSA2040A_DataMining_-Group_3-/EDA/Data/Transformed Data/Imported_health_records.csv')  # Replace with your actual data file path\n",
    "df.head()\n",
    "\n",
    "# Get summary statistics for numerical columns\n",
    "df.describe()\n",
    "\n",
    "# Get info about data types and missing values\n",
    "df.info()\n",
    "\n",
    "# Check for missing values in each column\n",
    "df.isnull().sum()\n",
    "\n",
    "# Check for duplicate rows\n",
    "df.duplicated().sum()\n",
    "\n",
    "# Show value counts for categorical columns\n",
    "df['diagnosis'].value_counts()\n",
    "df['gender'].value_counts()\n",
    "df['smoking_status'].value_counts()\n",
    "\n",
    "# Correlation matrix for numerical columns\n",
    "corr_matrix = df.corr(numeric_only=True)\n",
    "corr_matrix.to_csv('../Data/correlation_matrix.csv')"
   ]
  },
  {
   "cell_type": "code",
   "execution_count": 46,
   "id": "44abfbc2",
   "metadata": {},
   "outputs": [
    {
     "data": {
      "text/plain": [
       "readmitted\n",
       "No     85\n",
       "Yes    15\n",
       "Name: count, dtype: int64"
      ]
     },
     "execution_count": 46,
     "metadata": {},
     "output_type": "execute_result"
    }
   ],
   "source": [
    "#2. Categorical value counts\n",
    "diagnosis_counts = df['diagnosis'].value_counts()\n",
    "diagnosis_counts.to_csv('../Data/diagnosis_counts.csv')\n",
    "\n",
    "gender_counts = df['gender'].value_counts()\n",
    "gender_counts.to_csv('../Data/gender_counts.csv')\n",
    "\n",
    "smoking_counts = df['smoking_status'].value_counts()\n",
    "smoking_counts.to_csv('../Data/smoking_counts.csv')\n",
    "\n",
    "physical_activity_counts = df['physical_activity'].value_counts()\n",
    "physical_activity_counts.to_csv('../Data/physical_activity_counts.csv')\n",
    "\n",
    "cholesterol_counts = df['cholesterol_level'].value_counts()\n",
    "cholesterol_counts.to_csv('../Data/cholesterol_counts.csv')\n",
    "\n",
    "medication_counts = df['medication_adherence'].value_counts()\n",
    "medication_counts.to_csv('../Data/medication_counts.csv')\n",
    "\n",
    "readmitted_counts = df['readmitted'].value_counts()\n",
    "readmitted_counts.to_csv('../Data/readmitted_counts.csv')\n",
    "readmitted_counts"
   ]
  },
  {
   "cell_type": "code",
   "execution_count": 47,
   "id": "d0668f67",
   "metadata": {},
   "outputs": [
    {
     "data": {
      "text/plain": [
       "diagnosis      readmitted\n",
       "Asthma         No            14\n",
       "               Yes            3\n",
       "Diabetes       No            14\n",
       "               Yes            3\n",
       "Healthy        No            15\n",
       "               Yes            2\n",
       "Heart Disease  No            14\n",
       "               Yes            2\n",
       "Hypertension   No            14\n",
       "               Yes            3\n",
       "Obesity        No            14\n",
       "               Yes            2\n",
       "Name: count, dtype: int64"
      ]
     },
     "execution_count": 47,
     "metadata": {},
     "output_type": "execute_result"
    }
   ],
   "source": [
    "#3. Readmitted vs Diagnosis\n",
    "readmit_by_diag = df.groupby('diagnosis')['readmitted'].value_counts()\n",
    "readmit_by_diag.to_csv('../Data/readmit_by_diagnosis.csv')\n",
    "readmit_by_diag"
   ]
  },
  {
   "cell_type": "code",
   "execution_count": 48,
   "id": "eb4d3932",
   "metadata": {},
   "outputs": [
    {
     "data": {
      "text/plain": [
       "medication_adherence  readmitted\n",
       "Adherent              No            42\n",
       "                      Yes            8\n",
       "Non-adherent          No            43\n",
       "                      Yes            7\n",
       "dtype: int64"
      ]
     },
     "execution_count": 48,
     "metadata": {},
     "output_type": "execute_result"
    }
   ],
   "source": [
    "#4. Readmission vs Medical Adherence\n",
    "readmit_vs_adherence = df.groupby(['medication_adherence', 'readmitted']).size()\n",
    "readmit_vs_adherence.to_csv('../Data/readmit_vs_adherence.csv')\n",
    "readmit_vs_adherence"
   ]
  },
  {
   "cell_type": "code",
   "execution_count": 49,
   "id": "4c7d4241",
   "metadata": {},
   "outputs": [
    {
     "data": {
      "text/html": [
       "<div>\n",
       "<style scoped>\n",
       "    .dataframe tbody tr th:only-of-type {\n",
       "        vertical-align: middle;\n",
       "    }\n",
       "\n",
       "    .dataframe tbody tr th {\n",
       "        vertical-align: top;\n",
       "    }\n",
       "\n",
       "    .dataframe thead th {\n",
       "        text-align: right;\n",
       "    }\n",
       "</style>\n",
       "<table border=\"1\" class=\"dataframe\">\n",
       "  <thead>\n",
       "    <tr style=\"text-align: right;\">\n",
       "      <th></th>\n",
       "      <th>min_date</th>\n",
       "      <th>max_date</th>\n",
       "    </tr>\n",
       "  </thead>\n",
       "  <tbody>\n",
       "    <tr>\n",
       "      <th>0</th>\n",
       "      <td>2023-01-01</td>\n",
       "      <td>2024-05-10</td>\n",
       "    </tr>\n",
       "  </tbody>\n",
       "</table>\n",
       "</div>"
      ],
      "text/plain": [
       "     min_date    max_date\n",
       "0  2023-01-01  2024-05-10"
      ]
     },
     "execution_count": 49,
     "metadata": {},
     "output_type": "execute_result"
    }
   ],
   "source": [
    "#5. Distribution of Dates\n",
    "visit_dates = pd.DataFrame({'min_date': [df['visit_date'].min()], 'max_date': [df['visit_date'].max()]})\n",
    "visit_dates.to_csv('../Data/visit_date_range.csv', index=False)\n",
    "visit_dates"
   ]
  },
  {
   "cell_type": "code",
   "execution_count": 50,
   "id": "9b92e61d",
   "metadata": {},
   "outputs": [
    {
     "name": "stdout",
     "output_type": "stream",
     "text": [
      "\n",
      "Diagnoses with the highest readmission rate (17.6%):\n",
      "- Asthma\n",
      "- Diabetes\n",
      "- Hypertension\n"
     ]
    }
   ],
   "source": [
    "#6. Calculate readmission rates as percentages\n",
    "readmission_rate = df.groupby('diagnosis')['readmitted'].value_counts(normalize=True).unstack() * 100\n",
    "\n",
    "# Round for readability\n",
    "readmission_rate = readmission_rate.round(1)\n",
    "\n",
    "# Display the readmission rates\n",
    "readmission_rate.to_csv('../Data/readmission_rate_by_diagnosis.csv')\n",
    "\n",
    "# Find the highest % value in the 'Yes' column\n",
    "highest_rate = readmission_rate['Yes'].max()\n",
    "\n",
    "# List all diagnoses with this top rate\n",
    "top_diagnoses = readmission_rate[readmission_rate['Yes'] == highest_rate].index.tolist()\n",
    "\n",
    "#formatted output\n",
    "print(f\"\\nDiagnoses with the highest readmission rate ({highest_rate}%):\")\n",
    "for diag in top_diagnoses:\n",
    "    print(f\"- {diag}\")"
   ]
  },
  {
   "cell_type": "code",
   "execution_count": 51,
   "id": "ea508601",
   "metadata": {},
   "outputs": [
    {
     "data": {
      "text/html": [
       "<div>\n",
       "<style scoped>\n",
       "    .dataframe tbody tr th:only-of-type {\n",
       "        vertical-align: middle;\n",
       "    }\n",
       "\n",
       "    .dataframe tbody tr th {\n",
       "        vertical-align: top;\n",
       "    }\n",
       "\n",
       "    .dataframe thead th {\n",
       "        text-align: right;\n",
       "    }\n",
       "</style>\n",
       "<table border=\"1\" class=\"dataframe\">\n",
       "  <thead>\n",
       "    <tr style=\"text-align: right;\">\n",
       "      <th>readmitted</th>\n",
       "      <th>No</th>\n",
       "      <th>Yes</th>\n",
       "    </tr>\n",
       "    <tr>\n",
       "      <th>gender</th>\n",
       "      <th></th>\n",
       "      <th></th>\n",
       "    </tr>\n",
       "  </thead>\n",
       "  <tbody>\n",
       "    <tr>\n",
       "      <th>Female</th>\n",
       "      <td>43</td>\n",
       "      <td>7</td>\n",
       "    </tr>\n",
       "    <tr>\n",
       "      <th>Male</th>\n",
       "      <td>42</td>\n",
       "      <td>8</td>\n",
       "    </tr>\n",
       "  </tbody>\n",
       "</table>\n",
       "</div>"
      ],
      "text/plain": [
       "readmitted  No  Yes\n",
       "gender             \n",
       "Female      43    7\n",
       "Male        42    8"
      ]
     },
     "execution_count": 51,
     "metadata": {},
     "output_type": "execute_result"
    }
   ],
   "source": [
    "#7.Gender and Readmission Rates\n",
    "gender_readmit = pd.crosstab(df['gender'], df['readmitted'])\n",
    "gender_readmit.to_csv('../Data/gender_readmit_crosstab.csv')\n",
    "gender_readmit"
   ]
  },
  {
   "cell_type": "code",
   "execution_count": 52,
   "id": "12a5aacc",
   "metadata": {},
   "outputs": [
    {
     "data": {
      "text/html": [
       "<div>\n",
       "<style scoped>\n",
       "    .dataframe tbody tr th:only-of-type {\n",
       "        vertical-align: middle;\n",
       "    }\n",
       "\n",
       "    .dataframe tbody tr th {\n",
       "        vertical-align: top;\n",
       "    }\n",
       "\n",
       "    .dataframe thead th {\n",
       "        text-align: right;\n",
       "    }\n",
       "</style>\n",
       "<table border=\"1\" class=\"dataframe\">\n",
       "  <thead>\n",
       "    <tr style=\"text-align: right;\">\n",
       "      <th>diagnosis</th>\n",
       "      <th>Asthma</th>\n",
       "      <th>Diabetes</th>\n",
       "      <th>Healthy</th>\n",
       "      <th>Heart Disease</th>\n",
       "      <th>Hypertension</th>\n",
       "      <th>Obesity</th>\n",
       "    </tr>\n",
       "    <tr>\n",
       "      <th>cholesterol_level</th>\n",
       "      <th></th>\n",
       "      <th></th>\n",
       "      <th></th>\n",
       "      <th></th>\n",
       "      <th></th>\n",
       "      <th></th>\n",
       "    </tr>\n",
       "  </thead>\n",
       "  <tbody>\n",
       "    <tr>\n",
       "      <th>High</th>\n",
       "      <td>51.515152</td>\n",
       "      <td>0.000000</td>\n",
       "      <td>0.0</td>\n",
       "      <td>48.484848</td>\n",
       "      <td>0.0</td>\n",
       "      <td>0.000000</td>\n",
       "    </tr>\n",
       "    <tr>\n",
       "      <th>Low</th>\n",
       "      <td>0.000000</td>\n",
       "      <td>0.000000</td>\n",
       "      <td>50.0</td>\n",
       "      <td>0.000000</td>\n",
       "      <td>50.0</td>\n",
       "      <td>0.000000</td>\n",
       "    </tr>\n",
       "    <tr>\n",
       "      <th>Normal</th>\n",
       "      <td>0.000000</td>\n",
       "      <td>51.515152</td>\n",
       "      <td>0.0</td>\n",
       "      <td>0.000000</td>\n",
       "      <td>0.0</td>\n",
       "      <td>48.484848</td>\n",
       "    </tr>\n",
       "  </tbody>\n",
       "</table>\n",
       "</div>"
      ],
      "text/plain": [
       "diagnosis             Asthma   Diabetes  Healthy  Heart Disease  Hypertension  \\\n",
       "cholesterol_level                                                               \n",
       "High               51.515152   0.000000      0.0      48.484848           0.0   \n",
       "Low                 0.000000   0.000000     50.0       0.000000          50.0   \n",
       "Normal              0.000000  51.515152      0.0       0.000000           0.0   \n",
       "\n",
       "diagnosis            Obesity  \n",
       "cholesterol_level             \n",
       "High                0.000000  \n",
       "Low                 0.000000  \n",
       "Normal             48.484848  "
      ]
     },
     "execution_count": 52,
     "metadata": {},
     "output_type": "execute_result"
    }
   ],
   "source": [
    "#8. Cross-tabulation between Cholesterol Level and Diagnosis\n",
    "chol_vs_diabetes = pd.crosstab(df['cholesterol_level'], df['diagnosis'])\n",
    "chol_vs_diabetes.to_csv('../Data/chol_vs_diagnosis.csv')\n",
    "\n",
    "#convert to percentage\n",
    "chol_vs_diabetes_percentage = chol_vs_diabetes.div(chol_vs_diabetes.sum(axis=1), axis=0) * 100\n",
    "chol_vs_diabetes_percentage.to_csv('../Data/chol_vs_diagnosis_percentage.csv')\n",
    "chol_vs_diabetes_percentage"
   ]
  },
  {
   "cell_type": "code",
   "execution_count": 53,
   "id": "9c9ef084",
   "metadata": {},
   "outputs": [
    {
     "data": {
      "text/html": [
       "<div>\n",
       "<style scoped>\n",
       "    .dataframe tbody tr th:only-of-type {\n",
       "        vertical-align: middle;\n",
       "    }\n",
       "\n",
       "    .dataframe tbody tr th {\n",
       "        vertical-align: top;\n",
       "    }\n",
       "\n",
       "    .dataframe thead th {\n",
       "        text-align: right;\n",
       "    }\n",
       "</style>\n",
       "<table border=\"1\" class=\"dataframe\">\n",
       "  <thead>\n",
       "    <tr style=\"text-align: right;\">\n",
       "      <th>diagnosis</th>\n",
       "      <th>Asthma</th>\n",
       "      <th>Diabetes</th>\n",
       "      <th>Healthy</th>\n",
       "      <th>Heart Disease</th>\n",
       "      <th>Hypertension</th>\n",
       "      <th>Obesity</th>\n",
       "    </tr>\n",
       "    <tr>\n",
       "      <th>smoking_status</th>\n",
       "      <th></th>\n",
       "      <th></th>\n",
       "      <th></th>\n",
       "      <th></th>\n",
       "      <th></th>\n",
       "      <th></th>\n",
       "    </tr>\n",
       "  </thead>\n",
       "  <tbody>\n",
       "    <tr>\n",
       "      <th>Non-smoker</th>\n",
       "      <td>0.0</td>\n",
       "      <td>34.0</td>\n",
       "      <td>34.0</td>\n",
       "      <td>32.0</td>\n",
       "      <td>0.0</td>\n",
       "      <td>0.0</td>\n",
       "    </tr>\n",
       "    <tr>\n",
       "      <th>Smoker</th>\n",
       "      <td>34.0</td>\n",
       "      <td>0.0</td>\n",
       "      <td>0.0</td>\n",
       "      <td>0.0</td>\n",
       "      <td>34.0</td>\n",
       "      <td>32.0</td>\n",
       "    </tr>\n",
       "  </tbody>\n",
       "</table>\n",
       "</div>"
      ],
      "text/plain": [
       "diagnosis       Asthma  Diabetes  Healthy  Heart Disease  Hypertension  \\\n",
       "smoking_status                                                           \n",
       "Non-smoker         0.0      34.0     34.0           32.0           0.0   \n",
       "Smoker            34.0       0.0      0.0            0.0          34.0   \n",
       "\n",
       "diagnosis       Obesity  \n",
       "smoking_status           \n",
       "Non-smoker          0.0  \n",
       "Smoker             32.0  "
      ]
     },
     "execution_count": 53,
     "metadata": {},
     "output_type": "execute_result"
    }
   ],
   "source": [
    "#9.# Cross-tabulation between Smoking Status and Diagnosis\n",
    "smoke_vs_diagnosis = pd.crosstab(df['smoking_status'], df['diagnosis'])\n",
    "smoke_vs_diagnosis.to_csv('../Data/smoke_vs_diagnosis.csv')\n",
    "\n",
    "# Convert to percentages (row-wise)\n",
    "smoke_vs_diagnosis_percentage = smoke_vs_diagnosis.div(smoke_vs_diagnosis.sum(axis=1), axis=0) * 100\n",
    "smoke_vs_diagnosis_percentage.to_csv('../Data/smoke_vs_diagnosis_percentage.csv')\n",
    "smoke_vs_diagnosis_percentage"
   ]
  }
 ],
 "metadata": {
  "kernelspec": {
   "display_name": "Python 3",
   "language": "python",
   "name": "python3"
  },
  "language_info": {
   "codemirror_mode": {
    "name": "ipython",
    "version": 3
   },
   "file_extension": ".py",
   "mimetype": "text/x-python",
   "name": "python",
   "nbconvert_exporter": "python",
   "pygments_lexer": "ipython3",
   "version": "3.12.0"
  }
 },
 "nbformat": 4,
 "nbformat_minor": 5
}
